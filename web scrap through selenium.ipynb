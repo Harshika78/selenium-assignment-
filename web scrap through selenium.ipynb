{
 "cells": [
  {
   "cell_type": "code",
   "execution_count": 15,
   "metadata": {},
   "outputs": [],
   "source": [
    "# Importing Libraries\n",
    "import selenium\n",
    "import pandas as pd\n",
    "import time\n",
    "from bs4 import BeautifulSoup\n",
    "\n",
    "# Importing selenium webdriver \n",
    "from selenium import webdriver\n",
    "\n",
    "# Importing required Exceptions which needs to handled\n",
    "from selenium.common.exceptions import StaleElementReferenceException, NoSuchElementException\n",
    "\n",
    "#Importing requests\n",
    "import requests\n",
    "\n",
    "# importing regex\n",
    "import re"
   ]
  },
  {
   "cell_type": "code",
   "execution_count": 17,
   "metadata": {},
   "outputs": [],
   "source": [
    "driver=webdriver.Chrome(\"chromedriver.exe\") \n",
    "time.sleep(3)\n",
    "\n",
    "url = \"https://www.naukri.com/\"\n",
    "driver.get(url)"
   ]
  },
  {
   "cell_type": "code",
   "execution_count": 18,
   "metadata": {},
   "outputs": [
    {
     "data": {
      "text/plain": [
       "<selenium.webdriver.remote.webelement.WebElement (session=\"cfacbac213ea68dd0fdf400c9d45fa07\", element=\"3414ac67-7be9-4d52-98c2-9d68dca7a5df\")>"
      ]
     },
     "execution_count": 18,
     "metadata": {},
     "output_type": "execute_result"
    }
   ],
   "source": [
    "search_job = driver.find_element_by_id('qsb-keyword-sugg')\n",
    "search_job"
   ]
  },
  {
   "cell_type": "code",
   "execution_count": 19,
   "metadata": {},
   "outputs": [],
   "source": [
    "# write on search bar\n",
    "search_job.send_keys(\"Data Scientist\")"
   ]
  },
  {
   "cell_type": "code",
   "execution_count": 20,
   "metadata": {},
   "outputs": [],
   "source": [
    "# finding element for job location bar\n",
    "search_loc = driver.find_element_by_id('qsb-location-sugg')\n",
    "search_loc.send_keys(\"Bangalore\")"
   ]
  },
  {
   "cell_type": "code",
   "execution_count": 21,
   "metadata": {},
   "outputs": [],
   "source": [
    "#do click using xpath function\n",
    "search_btn = driver.find_element_by_xpath(\"//button[@class='btn']\")\n",
    "search_btn.click()"
   ]
  },
  {
   "cell_type": "code",
   "execution_count": 24,
   "metadata": {},
   "outputs": [
    {
     "data": {
      "text/plain": [
       "[<selenium.webdriver.remote.webelement.WebElement (session=\"cfacbac213ea68dd0fdf400c9d45fa07\", element=\"93c04f56-adda-4a1b-b76f-84b85bade87e\")>,\n",
       " <selenium.webdriver.remote.webelement.WebElement (session=\"cfacbac213ea68dd0fdf400c9d45fa07\", element=\"491a367e-84b4-42b2-98ab-b98b3142179b\")>,\n",
       " <selenium.webdriver.remote.webelement.WebElement (session=\"cfacbac213ea68dd0fdf400c9d45fa07\", element=\"4b0aca32-87e0-46cf-9562-10d451b6df58\")>,\n",
       " <selenium.webdriver.remote.webelement.WebElement (session=\"cfacbac213ea68dd0fdf400c9d45fa07\", element=\"32aff49d-e2d0-46b1-a9ca-e7deeeedb5fd\")>,\n",
       " <selenium.webdriver.remote.webelement.WebElement (session=\"cfacbac213ea68dd0fdf400c9d45fa07\", element=\"ed0d2939-7991-4c88-8145-bb9d71993e3c\")>,\n",
       " <selenium.webdriver.remote.webelement.WebElement (session=\"cfacbac213ea68dd0fdf400c9d45fa07\", element=\"0ccae9ab-44d4-4155-a99b-311abc8c27e0\")>,\n",
       " <selenium.webdriver.remote.webelement.WebElement (session=\"cfacbac213ea68dd0fdf400c9d45fa07\", element=\"3e6366f9-0f1f-4b86-ab0a-854d2efb2b77\")>,\n",
       " <selenium.webdriver.remote.webelement.WebElement (session=\"cfacbac213ea68dd0fdf400c9d45fa07\", element=\"a6329824-4811-477b-b9d2-98e40b57e67c\")>,\n",
       " <selenium.webdriver.remote.webelement.WebElement (session=\"cfacbac213ea68dd0fdf400c9d45fa07\", element=\"46ec1342-9b21-4233-b9de-58b2c049c70d\")>,\n",
       " <selenium.webdriver.remote.webelement.WebElement (session=\"cfacbac213ea68dd0fdf400c9d45fa07\", element=\"89d32c44-64e7-410c-99e0-cd89be734be7\")>,\n",
       " <selenium.webdriver.remote.webelement.WebElement (session=\"cfacbac213ea68dd0fdf400c9d45fa07\", element=\"5b6b598c-cbd2-464a-af7e-c06cca1f3947\")>,\n",
       " <selenium.webdriver.remote.webelement.WebElement (session=\"cfacbac213ea68dd0fdf400c9d45fa07\", element=\"c3389140-1f6d-4862-bc7b-d1a5792cb90a\")>,\n",
       " <selenium.webdriver.remote.webelement.WebElement (session=\"cfacbac213ea68dd0fdf400c9d45fa07\", element=\"610cb908-12a9-43a1-bb75-fa1b5a123c19\")>,\n",
       " <selenium.webdriver.remote.webelement.WebElement (session=\"cfacbac213ea68dd0fdf400c9d45fa07\", element=\"40aa4f2a-6450-421e-aa86-ec156338e755\")>,\n",
       " <selenium.webdriver.remote.webelement.WebElement (session=\"cfacbac213ea68dd0fdf400c9d45fa07\", element=\"e71cf157-04d5-42dd-96ff-3543c30b13f4\")>,\n",
       " <selenium.webdriver.remote.webelement.WebElement (session=\"cfacbac213ea68dd0fdf400c9d45fa07\", element=\"8d580f0c-0c4f-4e3c-9249-d0707b23a6d6\")>,\n",
       " <selenium.webdriver.remote.webelement.WebElement (session=\"cfacbac213ea68dd0fdf400c9d45fa07\", element=\"8ee3929c-979c-4ed1-ad90-fc4b0eaf4095\")>,\n",
       " <selenium.webdriver.remote.webelement.WebElement (session=\"cfacbac213ea68dd0fdf400c9d45fa07\", element=\"36852fa4-797c-4dba-9608-a9a3e793f295\")>,\n",
       " <selenium.webdriver.remote.webelement.WebElement (session=\"cfacbac213ea68dd0fdf400c9d45fa07\", element=\"032a0c95-cf7c-4456-ac9f-218ed901aef3\")>,\n",
       " <selenium.webdriver.remote.webelement.WebElement (session=\"cfacbac213ea68dd0fdf400c9d45fa07\", element=\"5da0e0af-7cf0-461f-b72e-2c43ace03fe9\")>]"
      ]
     },
     "execution_count": 24,
     "metadata": {},
     "output_type": "execute_result"
    }
   ],
   "source": [
    "# so lets extract all the tags having the job-titles\n",
    "titles_tags=driver.find_elements_by_xpath(\"//a[@class = 'title fw500 ellipsis']\")\n",
    "titles_tags"
   ]
  },
  {
   "cell_type": "code",
   "execution_count": 25,
   "metadata": {},
   "outputs": [
    {
     "data": {
      "text/plain": [
       "['Data Scientist',\n",
       " 'Data Scientist',\n",
       " 'Data Scientist',\n",
       " 'Data Scientist - Python/r',\n",
       " 'Data Scientist - Machine Learning',\n",
       " 'Data Scientist - Python/sql',\n",
       " 'Data Scientist - Python/ SQL',\n",
       " 'Data Scientist - Predictive Analytics',\n",
       " 'Data Scientist - Internet/Online',\n",
       " 'Data Scientist',\n",
       " 'Data Scientist',\n",
       " 'Data Scientist',\n",
       " 'Data Scientist',\n",
       " 'Data Scientist',\n",
       " 'Data Scientist',\n",
       " 'Data Scientist',\n",
       " 'Data Scientist',\n",
       " 'data scientist',\n",
       " 'Data Scientist',\n",
       " 'Data Scientist']"
      ]
     },
     "execution_count": 25,
     "metadata": {},
     "output_type": "execute_result"
    }
   ],
   "source": [
    "# Now the text of the job title is inside the tags extracted above.\n",
    "\n",
    "# so we will run a loop to iterate over the tags extracted above and extract the text inside them.\n",
    "job_titles=[]\n",
    "for i in titles_tags:\n",
    "    job_titles.append(i.text)\n",
    "job_titles"
   ]
  },
  {
   "cell_type": "code",
   "execution_count": 27,
   "metadata": {},
   "outputs": [
    {
     "data": {
      "text/plain": [
       "[<selenium.webdriver.remote.webelement.WebElement (session=\"cfacbac213ea68dd0fdf400c9d45fa07\", element=\"ed94bcc8-b535-480e-889c-3f0b6adea5ef\")>,\n",
       " <selenium.webdriver.remote.webelement.WebElement (session=\"cfacbac213ea68dd0fdf400c9d45fa07\", element=\"eb96757e-017d-4ec9-abfb-332e1985279a\")>,\n",
       " <selenium.webdriver.remote.webelement.WebElement (session=\"cfacbac213ea68dd0fdf400c9d45fa07\", element=\"cf262820-6a7d-45e8-89c6-6f26404a66a5\")>,\n",
       " <selenium.webdriver.remote.webelement.WebElement (session=\"cfacbac213ea68dd0fdf400c9d45fa07\", element=\"41534520-9de2-4476-b76d-2ecf584c8fd3\")>,\n",
       " <selenium.webdriver.remote.webelement.WebElement (session=\"cfacbac213ea68dd0fdf400c9d45fa07\", element=\"cc3f5084-22a8-4fac-9ede-135c4b476a79\")>,\n",
       " <selenium.webdriver.remote.webelement.WebElement (session=\"cfacbac213ea68dd0fdf400c9d45fa07\", element=\"b0f5cf95-38c0-4489-b63b-f8bda40566dd\")>,\n",
       " <selenium.webdriver.remote.webelement.WebElement (session=\"cfacbac213ea68dd0fdf400c9d45fa07\", element=\"55a9504b-5695-49fd-9ee3-837eb8805a41\")>,\n",
       " <selenium.webdriver.remote.webelement.WebElement (session=\"cfacbac213ea68dd0fdf400c9d45fa07\", element=\"9b2145e3-d156-4ea8-8e17-17123864a0e6\")>,\n",
       " <selenium.webdriver.remote.webelement.WebElement (session=\"cfacbac213ea68dd0fdf400c9d45fa07\", element=\"0d64f8fe-1a1a-40e6-8217-5ab0daf7f6ae\")>,\n",
       " <selenium.webdriver.remote.webelement.WebElement (session=\"cfacbac213ea68dd0fdf400c9d45fa07\", element=\"6573c5b1-fd18-41f1-b494-cc7fe6f650fb\")>,\n",
       " <selenium.webdriver.remote.webelement.WebElement (session=\"cfacbac213ea68dd0fdf400c9d45fa07\", element=\"a4bbeb21-f4e9-4ba0-893a-5faba1993fb8\")>,\n",
       " <selenium.webdriver.remote.webelement.WebElement (session=\"cfacbac213ea68dd0fdf400c9d45fa07\", element=\"481c882b-5ad3-49ba-8601-4f647b1008ec\")>,\n",
       " <selenium.webdriver.remote.webelement.WebElement (session=\"cfacbac213ea68dd0fdf400c9d45fa07\", element=\"fd154645-13f7-43c7-a847-df9c3c21173f\")>,\n",
       " <selenium.webdriver.remote.webelement.WebElement (session=\"cfacbac213ea68dd0fdf400c9d45fa07\", element=\"0b7e7b5c-4ef1-4f68-bdd0-4f7984b85146\")>,\n",
       " <selenium.webdriver.remote.webelement.WebElement (session=\"cfacbac213ea68dd0fdf400c9d45fa07\", element=\"f92aa2fa-0803-4d5f-9563-5a71264fc493\")>,\n",
       " <selenium.webdriver.remote.webelement.WebElement (session=\"cfacbac213ea68dd0fdf400c9d45fa07\", element=\"f45000ee-86fd-42ab-bc35-69c12397a8a6\")>,\n",
       " <selenium.webdriver.remote.webelement.WebElement (session=\"cfacbac213ea68dd0fdf400c9d45fa07\", element=\"0368d97a-c521-4c34-9144-33befd7e326c\")>,\n",
       " <selenium.webdriver.remote.webelement.WebElement (session=\"cfacbac213ea68dd0fdf400c9d45fa07\", element=\"b6442276-8f83-496e-aa63-9b803431f1e8\")>,\n",
       " <selenium.webdriver.remote.webelement.WebElement (session=\"cfacbac213ea68dd0fdf400c9d45fa07\", element=\"941e292b-b4c1-40f2-b902-07e3a54cbde7\")>,\n",
       " <selenium.webdriver.remote.webelement.WebElement (session=\"cfacbac213ea68dd0fdf400c9d45fa07\", element=\"f74434f8-16c9-4848-8864-4ea71322ab57\")>]"
      ]
     },
     "execution_count": 27,
     "metadata": {},
     "output_type": "execute_result"
    }
   ],
   "source": [
    "# so lets extract all the tags having the company names\n",
    "companies_tags=driver.find_elements_by_xpath(\"//a[@class = 'subTitle ellipsis fleft']\")\n",
    "companies_tags"
   ]
  },
  {
   "cell_type": "code",
   "execution_count": 28,
   "metadata": {},
   "outputs": [
    {
     "data": {
      "text/plain": [
       "['Catalyst',\n",
       " 'Bion',\n",
       " 'Bion',\n",
       " 'Catalyst',\n",
       " 'Catalyst',\n",
       " 'Catalyst',\n",
       " 'Catalyst',\n",
       " 'TalentStack',\n",
       " 'e-Hireo Global Pvt Ltd',\n",
       " 'Narayana Health',\n",
       " 'Talent Corner HR Services Pvt Ltd',\n",
       " 'COUTURE AI PRIVATE LIMITED',\n",
       " 'Godswill Management Consultants',\n",
       " 'Innominds Software Pvt Ltd',\n",
       " 'Simplify360',\n",
       " 'SYSTECH INTERNATIONAL',\n",
       " 'Flipkart Internet Private Limited',\n",
       " 'Global Talent Pool',\n",
       " 'Publicis Groupe',\n",
       " 'Zycus Infotech Pvt Ltd']"
      ]
     },
     "execution_count": 28,
     "metadata": {},
     "output_type": "execute_result"
    }
   ],
   "source": [
    "company_names=[]\n",
    "\n",
    "for i in companies_tags:\n",
    "    company_names.append(i.text)\n",
    "company_names\n"
   ]
  },
  {
   "cell_type": "code",
   "execution_count": 35,
   "metadata": {},
   "outputs": [
    {
     "data": {
      "text/plain": [
       "[<selenium.webdriver.remote.webelement.WebElement (session=\"cfacbac213ea68dd0fdf400c9d45fa07\", element=\"c71a0fbf-1080-4598-892b-767ea16fe412\")>,\n",
       " <selenium.webdriver.remote.webelement.WebElement (session=\"cfacbac213ea68dd0fdf400c9d45fa07\", element=\"ccccd094-a79d-4ae0-8e6e-d820454d2aec\")>,\n",
       " <selenium.webdriver.remote.webelement.WebElement (session=\"cfacbac213ea68dd0fdf400c9d45fa07\", element=\"aede0ff8-9c9b-4719-b1dd-9d3140be8277\")>,\n",
       " <selenium.webdriver.remote.webelement.WebElement (session=\"cfacbac213ea68dd0fdf400c9d45fa07\", element=\"70d78ac1-3069-4718-9a55-7a89bfc2546b\")>,\n",
       " <selenium.webdriver.remote.webelement.WebElement (session=\"cfacbac213ea68dd0fdf400c9d45fa07\", element=\"a2c8b9aa-bdd0-4c32-a272-c82c9e6c1aa4\")>,\n",
       " <selenium.webdriver.remote.webelement.WebElement (session=\"cfacbac213ea68dd0fdf400c9d45fa07\", element=\"dfad5fee-1126-4529-bbad-a832bdb5eeb4\")>,\n",
       " <selenium.webdriver.remote.webelement.WebElement (session=\"cfacbac213ea68dd0fdf400c9d45fa07\", element=\"b85dc5d4-30dd-491b-a679-1d09a043a46e\")>,\n",
       " <selenium.webdriver.remote.webelement.WebElement (session=\"cfacbac213ea68dd0fdf400c9d45fa07\", element=\"a8aeaa7c-a4ab-4a9e-884f-ec1aa8b83e4a\")>,\n",
       " <selenium.webdriver.remote.webelement.WebElement (session=\"cfacbac213ea68dd0fdf400c9d45fa07\", element=\"d2100960-6293-4dcc-9d37-7ff231d06e25\")>,\n",
       " <selenium.webdriver.remote.webelement.WebElement (session=\"cfacbac213ea68dd0fdf400c9d45fa07\", element=\"2224f7cb-112c-4b61-ab77-8df7dab9f707\")>,\n",
       " <selenium.webdriver.remote.webelement.WebElement (session=\"cfacbac213ea68dd0fdf400c9d45fa07\", element=\"e56326a3-6adb-47a6-bec2-6bc06033f72b\")>,\n",
       " <selenium.webdriver.remote.webelement.WebElement (session=\"cfacbac213ea68dd0fdf400c9d45fa07\", element=\"33073683-f9a8-4d15-aa56-05ec80285536\")>,\n",
       " <selenium.webdriver.remote.webelement.WebElement (session=\"cfacbac213ea68dd0fdf400c9d45fa07\", element=\"28a4af33-83fe-41a7-9517-cc330df0f1aa\")>,\n",
       " <selenium.webdriver.remote.webelement.WebElement (session=\"cfacbac213ea68dd0fdf400c9d45fa07\", element=\"b23c8e0f-6cae-4f41-a525-21ece2709c93\")>,\n",
       " <selenium.webdriver.remote.webelement.WebElement (session=\"cfacbac213ea68dd0fdf400c9d45fa07\", element=\"f480b769-1df6-46a7-98c9-c52559b1045f\")>,\n",
       " <selenium.webdriver.remote.webelement.WebElement (session=\"cfacbac213ea68dd0fdf400c9d45fa07\", element=\"43cba474-ccd8-466c-84ed-756ac62f7954\")>,\n",
       " <selenium.webdriver.remote.webelement.WebElement (session=\"cfacbac213ea68dd0fdf400c9d45fa07\", element=\"937b19c6-9391-4f37-b904-3ad120d5d905\")>,\n",
       " <selenium.webdriver.remote.webelement.WebElement (session=\"cfacbac213ea68dd0fdf400c9d45fa07\", element=\"9a5c2f72-bc58-439d-b92c-ab1be8802ea1\")>,\n",
       " <selenium.webdriver.remote.webelement.WebElement (session=\"cfacbac213ea68dd0fdf400c9d45fa07\", element=\"4d962aee-282d-4a36-a31e-d8e169d6b041\")>,\n",
       " <selenium.webdriver.remote.webelement.WebElement (session=\"cfacbac213ea68dd0fdf400c9d45fa07\", element=\"6c9400ee-eb7a-4912-9da7-44e0de7cb89e\")>]"
      ]
     },
     "execution_count": 35,
     "metadata": {},
     "output_type": "execute_result"
    }
   ],
   "source": [
    "# so lets extract all the tags having the experience required data \n",
    "experience_tags=driver.find_elements_by_xpath(\"//li[@class = 'fleft grey-text br2 placeHolderLi experience']//span\")\n",
    "experience_tags"
   ]
  },
  {
   "cell_type": "code",
   "execution_count": 36,
   "metadata": {},
   "outputs": [
    {
     "data": {
      "text/plain": [
       "['2-7 Yrs',\n",
       " '2-7 Yrs',\n",
       " '2-7 Yrs',\n",
       " '2-6 Yrs',\n",
       " '2-7 Yrs',\n",
       " '2-7 Yrs',\n",
       " '2-7 Yrs',\n",
       " '1-3 Yrs',\n",
       " '2-5 Yrs',\n",
       " '1-4 Yrs',\n",
       " '2-5 Yrs',\n",
       " '2-5 Yrs',\n",
       " '2-5 Yrs',\n",
       " '2-7 Yrs',\n",
       " '1-3 Yrs',\n",
       " '2-7 Yrs',\n",
       " '0-5 Yrs',\n",
       " '0-2 Yrs',\n",
       " '1-4 Yrs',\n",
       " '1-6 Yrs']"
      ]
     },
     "execution_count": 36,
     "metadata": {},
     "output_type": "execute_result"
    }
   ],
   "source": [
    "experience_list=[]\n",
    "for i in experience_tags:\n",
    "    experience_list.append(i.text)\n",
    "experience_list"
   ]
  },
  {
   "cell_type": "code",
   "execution_count": 40,
   "metadata": {},
   "outputs": [
    {
     "data": {
      "text/plain": [
       "[<selenium.webdriver.remote.webelement.WebElement (session=\"cfacbac213ea68dd0fdf400c9d45fa07\", element=\"953b99d6-6d86-4958-b222-f3d92b39bdc5\")>,\n",
       " <selenium.webdriver.remote.webelement.WebElement (session=\"cfacbac213ea68dd0fdf400c9d45fa07\", element=\"e03dd759-d743-43ab-bb9f-64101e8deff5\")>,\n",
       " <selenium.webdriver.remote.webelement.WebElement (session=\"cfacbac213ea68dd0fdf400c9d45fa07\", element=\"768518ed-7ae2-44ad-9580-fbe52298a02d\")>,\n",
       " <selenium.webdriver.remote.webelement.WebElement (session=\"cfacbac213ea68dd0fdf400c9d45fa07\", element=\"3659573f-33b6-4747-8e13-4ce7e594d798\")>,\n",
       " <selenium.webdriver.remote.webelement.WebElement (session=\"cfacbac213ea68dd0fdf400c9d45fa07\", element=\"310320d6-e93f-4ec9-a1f3-73d3fa5b054f\")>,\n",
       " <selenium.webdriver.remote.webelement.WebElement (session=\"cfacbac213ea68dd0fdf400c9d45fa07\", element=\"907cc6b2-d974-431f-98bb-24169c156e2d\")>,\n",
       " <selenium.webdriver.remote.webelement.WebElement (session=\"cfacbac213ea68dd0fdf400c9d45fa07\", element=\"c70ec8b2-46bf-4028-911d-f0d18d36b85c\")>,\n",
       " <selenium.webdriver.remote.webelement.WebElement (session=\"cfacbac213ea68dd0fdf400c9d45fa07\", element=\"50c13124-927a-4d7d-9aff-6d47def1bdd3\")>,\n",
       " <selenium.webdriver.remote.webelement.WebElement (session=\"cfacbac213ea68dd0fdf400c9d45fa07\", element=\"98c73621-f475-427c-9495-966af2fe5177\")>,\n",
       " <selenium.webdriver.remote.webelement.WebElement (session=\"cfacbac213ea68dd0fdf400c9d45fa07\", element=\"0b1eb87e-5eb8-4fc4-8720-013f414af31c\")>,\n",
       " <selenium.webdriver.remote.webelement.WebElement (session=\"cfacbac213ea68dd0fdf400c9d45fa07\", element=\"bde08c2a-0d59-48b1-a074-ab4bf06d825d\")>,\n",
       " <selenium.webdriver.remote.webelement.WebElement (session=\"cfacbac213ea68dd0fdf400c9d45fa07\", element=\"2fe12655-27cd-4619-996f-82f056c5efb0\")>,\n",
       " <selenium.webdriver.remote.webelement.WebElement (session=\"cfacbac213ea68dd0fdf400c9d45fa07\", element=\"3956e2f8-0919-4ad7-a3d6-b7e3186be962\")>,\n",
       " <selenium.webdriver.remote.webelement.WebElement (session=\"cfacbac213ea68dd0fdf400c9d45fa07\", element=\"ffd30455-91ef-4c49-b250-0d495966ea05\")>,\n",
       " <selenium.webdriver.remote.webelement.WebElement (session=\"cfacbac213ea68dd0fdf400c9d45fa07\", element=\"51b6f6ba-6340-45fb-a53d-5b13f8de6653\")>,\n",
       " <selenium.webdriver.remote.webelement.WebElement (session=\"cfacbac213ea68dd0fdf400c9d45fa07\", element=\"460eddae-b382-48a8-bd40-621a940fb950\")>,\n",
       " <selenium.webdriver.remote.webelement.WebElement (session=\"cfacbac213ea68dd0fdf400c9d45fa07\", element=\"d6a6364e-8f4b-4861-b75f-3fe6a719ab75\")>,\n",
       " <selenium.webdriver.remote.webelement.WebElement (session=\"cfacbac213ea68dd0fdf400c9d45fa07\", element=\"d0552968-cad5-4c32-8de8-7066a1ee3903\")>,\n",
       " <selenium.webdriver.remote.webelement.WebElement (session=\"cfacbac213ea68dd0fdf400c9d45fa07\", element=\"54d56ad6-27dc-4dba-a4f2-2c8ed0a1873b\")>,\n",
       " <selenium.webdriver.remote.webelement.WebElement (session=\"cfacbac213ea68dd0fdf400c9d45fa07\", element=\"ce039462-85dd-4ddd-a70a-1c9bca89bbe5\")>]"
      ]
     },
     "execution_count": 40,
     "metadata": {},
     "output_type": "execute_result"
    }
   ],
   "source": [
    "locations_tags=driver.find_elements_by_xpath(\"//li[@class = 'fleft grey-text br2 placeHolderLi location']//span\")\n",
    "locations_tags"
   ]
  },
  {
   "cell_type": "code",
   "execution_count": 41,
   "metadata": {},
   "outputs": [
    {
     "data": {
      "text/plain": [
       "['Bangalore/Bengaluru',\n",
       " 'Bangalore/Bengaluru',\n",
       " 'Bangalore/Bengaluru',\n",
       " 'Bangalore/Bengaluru',\n",
       " 'Bangalore/Bengaluru',\n",
       " 'Bangalore/Bengaluru',\n",
       " 'Bangalore/Bengaluru',\n",
       " 'Bangalore/Bengaluru',\n",
       " 'Bangalore/Bengaluru',\n",
       " 'Bangalore/Bengaluru',\n",
       " 'Bangalore/Bengaluru',\n",
       " 'Bangalore/Bengaluru',\n",
       " 'Hyderabad/Secunderabad, Chennai, Bangalore/Bengaluru',\n",
       " 'Hyderabad/Secunderabad, Bangalore/Bengaluru',\n",
       " 'Bangalore/Bengaluru',\n",
       " 'Bangalore/Bengaluru',\n",
       " 'Bangalore/Bengaluru',\n",
       " 'Bangalore/Bengaluru',\n",
       " 'Bangalore/Bengaluru',\n",
       " 'Bangalore/Bengaluru']"
      ]
     },
     "execution_count": 41,
     "metadata": {},
     "output_type": "execute_result"
    }
   ],
   "source": [
    "locations_list=[]\n",
    "for i in locations_tags:\n",
    "    locations_list.append(i.text)\n",
    "locations_list"
   ]
  },
  {
   "cell_type": "code",
   "execution_count": 42,
   "metadata": {},
   "outputs": [
    {
     "name": "stdout",
     "output_type": "stream",
     "text": [
      "20 20 20 20\n"
     ]
    }
   ],
   "source": [
    "print(len(job_titles),len(company_names),len(experience_list),len(locations_list))"
   ]
  },
  {
   "cell_type": "code",
   "execution_count": 43,
   "metadata": {},
   "outputs": [],
   "source": [
    "#import pandas as pd \n",
    "jobs=pd.DataFrame({})\n",
    "jobs['title']=job_titles\n",
    "jobs['company']=company_names\n",
    "jobs['experience_required']=experience_list\n",
    "jobs['location']=locations_list"
   ]
  },
  {
   "cell_type": "code",
   "execution_count": 44,
   "metadata": {},
   "outputs": [
    {
     "data": {
      "text/html": [
       "<div>\n",
       "<style scoped>\n",
       "    .dataframe tbody tr th:only-of-type {\n",
       "        vertical-align: middle;\n",
       "    }\n",
       "\n",
       "    .dataframe tbody tr th {\n",
       "        vertical-align: top;\n",
       "    }\n",
       "\n",
       "    .dataframe thead th {\n",
       "        text-align: right;\n",
       "    }\n",
       "</style>\n",
       "<table border=\"1\" class=\"dataframe\">\n",
       "  <thead>\n",
       "    <tr style=\"text-align: right;\">\n",
       "      <th></th>\n",
       "      <th>title</th>\n",
       "      <th>company</th>\n",
       "      <th>experience_required</th>\n",
       "      <th>location</th>\n",
       "    </tr>\n",
       "  </thead>\n",
       "  <tbody>\n",
       "    <tr>\n",
       "      <th>0</th>\n",
       "      <td>Data Scientist</td>\n",
       "      <td>Catalyst</td>\n",
       "      <td>2-7 Yrs</td>\n",
       "      <td>Bangalore/Bengaluru</td>\n",
       "    </tr>\n",
       "    <tr>\n",
       "      <th>1</th>\n",
       "      <td>Data Scientist</td>\n",
       "      <td>Bion</td>\n",
       "      <td>2-7 Yrs</td>\n",
       "      <td>Bangalore/Bengaluru</td>\n",
       "    </tr>\n",
       "    <tr>\n",
       "      <th>2</th>\n",
       "      <td>Data Scientist</td>\n",
       "      <td>Bion</td>\n",
       "      <td>2-7 Yrs</td>\n",
       "      <td>Bangalore/Bengaluru</td>\n",
       "    </tr>\n",
       "    <tr>\n",
       "      <th>3</th>\n",
       "      <td>Data Scientist - Python/r</td>\n",
       "      <td>Catalyst</td>\n",
       "      <td>2-6 Yrs</td>\n",
       "      <td>Bangalore/Bengaluru</td>\n",
       "    </tr>\n",
       "    <tr>\n",
       "      <th>4</th>\n",
       "      <td>Data Scientist - Machine Learning</td>\n",
       "      <td>Catalyst</td>\n",
       "      <td>2-7 Yrs</td>\n",
       "      <td>Bangalore/Bengaluru</td>\n",
       "    </tr>\n",
       "    <tr>\n",
       "      <th>5</th>\n",
       "      <td>Data Scientist - Python/sql</td>\n",
       "      <td>Catalyst</td>\n",
       "      <td>2-7 Yrs</td>\n",
       "      <td>Bangalore/Bengaluru</td>\n",
       "    </tr>\n",
       "    <tr>\n",
       "      <th>6</th>\n",
       "      <td>Data Scientist - Python/ SQL</td>\n",
       "      <td>Catalyst</td>\n",
       "      <td>2-7 Yrs</td>\n",
       "      <td>Bangalore/Bengaluru</td>\n",
       "    </tr>\n",
       "    <tr>\n",
       "      <th>7</th>\n",
       "      <td>Data Scientist - Predictive Analytics</td>\n",
       "      <td>TalentStack</td>\n",
       "      <td>1-3 Yrs</td>\n",
       "      <td>Bangalore/Bengaluru</td>\n",
       "    </tr>\n",
       "    <tr>\n",
       "      <th>8</th>\n",
       "      <td>Data Scientist - Internet/Online</td>\n",
       "      <td>e-Hireo Global Pvt Ltd</td>\n",
       "      <td>2-5 Yrs</td>\n",
       "      <td>Bangalore/Bengaluru</td>\n",
       "    </tr>\n",
       "    <tr>\n",
       "      <th>9</th>\n",
       "      <td>Data Scientist</td>\n",
       "      <td>Narayana Health</td>\n",
       "      <td>1-4 Yrs</td>\n",
       "      <td>Bangalore/Bengaluru</td>\n",
       "    </tr>\n",
       "    <tr>\n",
       "      <th>10</th>\n",
       "      <td>Data Scientist</td>\n",
       "      <td>Talent Corner HR Services Pvt Ltd</td>\n",
       "      <td>2-5 Yrs</td>\n",
       "      <td>Bangalore/Bengaluru</td>\n",
       "    </tr>\n",
       "    <tr>\n",
       "      <th>11</th>\n",
       "      <td>Data Scientist</td>\n",
       "      <td>COUTURE AI PRIVATE LIMITED</td>\n",
       "      <td>2-5 Yrs</td>\n",
       "      <td>Bangalore/Bengaluru</td>\n",
       "    </tr>\n",
       "    <tr>\n",
       "      <th>12</th>\n",
       "      <td>Data Scientist</td>\n",
       "      <td>Godswill Management Consultants</td>\n",
       "      <td>2-5 Yrs</td>\n",
       "      <td>Hyderabad/Secunderabad, Chennai, Bangalore/Ben...</td>\n",
       "    </tr>\n",
       "    <tr>\n",
       "      <th>13</th>\n",
       "      <td>Data Scientist</td>\n",
       "      <td>Innominds Software Pvt Ltd</td>\n",
       "      <td>2-7 Yrs</td>\n",
       "      <td>Hyderabad/Secunderabad, Bangalore/Bengaluru</td>\n",
       "    </tr>\n",
       "    <tr>\n",
       "      <th>14</th>\n",
       "      <td>Data Scientist</td>\n",
       "      <td>Simplify360</td>\n",
       "      <td>1-3 Yrs</td>\n",
       "      <td>Bangalore/Bengaluru</td>\n",
       "    </tr>\n",
       "    <tr>\n",
       "      <th>15</th>\n",
       "      <td>Data Scientist</td>\n",
       "      <td>SYSTECH INTERNATIONAL</td>\n",
       "      <td>2-7 Yrs</td>\n",
       "      <td>Bangalore/Bengaluru</td>\n",
       "    </tr>\n",
       "    <tr>\n",
       "      <th>16</th>\n",
       "      <td>Data Scientist</td>\n",
       "      <td>Flipkart Internet Private Limited</td>\n",
       "      <td>0-5 Yrs</td>\n",
       "      <td>Bangalore/Bengaluru</td>\n",
       "    </tr>\n",
       "    <tr>\n",
       "      <th>17</th>\n",
       "      <td>data scientist</td>\n",
       "      <td>Global Talent Pool</td>\n",
       "      <td>0-2 Yrs</td>\n",
       "      <td>Bangalore/Bengaluru</td>\n",
       "    </tr>\n",
       "    <tr>\n",
       "      <th>18</th>\n",
       "      <td>Data Scientist</td>\n",
       "      <td>Publicis Groupe</td>\n",
       "      <td>1-4 Yrs</td>\n",
       "      <td>Bangalore/Bengaluru</td>\n",
       "    </tr>\n",
       "    <tr>\n",
       "      <th>19</th>\n",
       "      <td>Data Scientist</td>\n",
       "      <td>Zycus Infotech Pvt Ltd</td>\n",
       "      <td>1-6 Yrs</td>\n",
       "      <td>Bangalore/Bengaluru</td>\n",
       "    </tr>\n",
       "  </tbody>\n",
       "</table>\n",
       "</div>"
      ],
      "text/plain": [
       "                                    title                            company  \\\n",
       "0                          Data Scientist                           Catalyst   \n",
       "1                          Data Scientist                               Bion   \n",
       "2                          Data Scientist                               Bion   \n",
       "3               Data Scientist - Python/r                           Catalyst   \n",
       "4       Data Scientist - Machine Learning                           Catalyst   \n",
       "5             Data Scientist - Python/sql                           Catalyst   \n",
       "6            Data Scientist - Python/ SQL                           Catalyst   \n",
       "7   Data Scientist - Predictive Analytics                        TalentStack   \n",
       "8        Data Scientist - Internet/Online             e-Hireo Global Pvt Ltd   \n",
       "9                          Data Scientist                    Narayana Health   \n",
       "10                         Data Scientist  Talent Corner HR Services Pvt Ltd   \n",
       "11                         Data Scientist         COUTURE AI PRIVATE LIMITED   \n",
       "12                         Data Scientist    Godswill Management Consultants   \n",
       "13                         Data Scientist         Innominds Software Pvt Ltd   \n",
       "14                         Data Scientist                        Simplify360   \n",
       "15                         Data Scientist              SYSTECH INTERNATIONAL   \n",
       "16                         Data Scientist  Flipkart Internet Private Limited   \n",
       "17                         data scientist                 Global Talent Pool   \n",
       "18                         Data Scientist                    Publicis Groupe   \n",
       "19                         Data Scientist             Zycus Infotech Pvt Ltd   \n",
       "\n",
       "   experience_required                                           location  \n",
       "0              2-7 Yrs                                Bangalore/Bengaluru  \n",
       "1              2-7 Yrs                                Bangalore/Bengaluru  \n",
       "2              2-7 Yrs                                Bangalore/Bengaluru  \n",
       "3              2-6 Yrs                                Bangalore/Bengaluru  \n",
       "4              2-7 Yrs                                Bangalore/Bengaluru  \n",
       "5              2-7 Yrs                                Bangalore/Bengaluru  \n",
       "6              2-7 Yrs                                Bangalore/Bengaluru  \n",
       "7              1-3 Yrs                                Bangalore/Bengaluru  \n",
       "8              2-5 Yrs                                Bangalore/Bengaluru  \n",
       "9              1-4 Yrs                                Bangalore/Bengaluru  \n",
       "10             2-5 Yrs                                Bangalore/Bengaluru  \n",
       "11             2-5 Yrs                                Bangalore/Bengaluru  \n",
       "12             2-5 Yrs  Hyderabad/Secunderabad, Chennai, Bangalore/Ben...  \n",
       "13             2-7 Yrs        Hyderabad/Secunderabad, Bangalore/Bengaluru  \n",
       "14             1-3 Yrs                                Bangalore/Bengaluru  \n",
       "15             2-7 Yrs                                Bangalore/Bengaluru  \n",
       "16             0-5 Yrs                                Bangalore/Bengaluru  \n",
       "17             0-2 Yrs                                Bangalore/Bengaluru  \n",
       "18             1-4 Yrs                                Bangalore/Bengaluru  \n",
       "19             1-6 Yrs                                Bangalore/Bengaluru  "
      ]
     },
     "execution_count": 44,
     "metadata": {},
     "output_type": "execute_result"
    }
   ],
   "source": [
    "jobs"
   ]
  },
  {
   "cell_type": "code",
   "execution_count": 45,
   "metadata": {},
   "outputs": [
    {
     "data": {
      "text/plain": [
       "['https://www.naukri.com/job-listings-data-scientist-catalyst-bangalore-bengaluru-2-to-7-years-281119905509?src=jobsearchDesk&sid=1626018816565995&xp=1&px=1',\n",
       " 'https://www.naukri.com/job-listings-data-scientist-bion-bangalore-bengaluru-2-to-7-years-180621902033?src=jobsearchDesk&sid=1626018816565995&xp=2&px=1',\n",
       " 'https://www.naukri.com/job-listings-data-scientist-bion-bangalore-bengaluru-2-to-7-years-040320903130?src=jobsearchDesk&sid=1626018816565995&xp=3&px=1',\n",
       " 'https://www.naukri.com/job-listings-data-scientist-python-r-catalyst-bangalore-bengaluru-2-to-6-years-240320902966?src=jobsearchDesk&sid=1626018816565995&xp=4&px=1',\n",
       " 'https://www.naukri.com/job-listings-data-scientist-machine-learning-catalyst-bangalore-bengaluru-2-to-7-years-290720902628?src=jobsearchDesk&sid=1626018816565995&xp=5&px=1',\n",
       " 'https://www.naukri.com/job-listings-data-scientist-python-sql-catalyst-bangalore-bengaluru-2-to-7-years-081119903383?src=jobsearchDesk&sid=1626018816565995&xp=6&px=1',\n",
       " 'https://www.naukri.com/job-listings-data-scientist-python-sql-catalyst-bangalore-bengaluru-2-to-7-years-030918900823?src=jobsearchDesk&sid=1626018816565995&xp=7&px=1',\n",
       " 'https://www.naukri.com/job-listings-data-scientist-predictive-analytics-talentstack-bangalore-bengaluru-1-to-3-years-250621902694?src=jobsearchDesk&sid=1626018816565995&xp=8&px=1',\n",
       " 'https://www.naukri.com/job-listings-data-scientist-internet-online-e-hireo-global-pvt-ltd-bangalore-bengaluru-2-to-5-years-250820900813?src=jobsearchDesk&sid=1626018816565995&xp=9&px=1',\n",
       " 'https://www.naukri.com/job-listings-data-scientist-narayana-hrudayalaya-ltd-bangalore-bengaluru-1-to-4-years-250621002246?src=jobsearchDesk&sid=1626018816565995&xp=10&px=1',\n",
       " 'https://www.naukri.com/job-listings-data-scientist-talent-corner-hr-services-pvt-ltd-bangalore-bengaluru-2-to-5-years-260521000987?src=jobsearchDesk&sid=1626018816565995&xp=11&px=1',\n",
       " 'https://www.naukri.com/job-listings-data-scientist-couture-ai-private-limited-bangalore-bengaluru-2-to-5-years-130521003858?src=jobsearchDesk&sid=1626018816565995&xp=12&px=1',\n",
       " 'https://www.naukri.com/job-listings-data-scientist-godswill-management-consultants-hyderabad-secunderabad-chennai-bangalore-bengaluru-2-to-5-years-210321000229?src=jobsearchDesk&sid=1626018816565995&xp=13&px=1',\n",
       " 'https://www.naukri.com/job-listings-data-scientist-innominds-software-pvt-ltd-hyderabad-secunderabad-bangalore-bengaluru-2-to-7-years-260521501408?src=jobsearchDesk&sid=1626018816565995&xp=14&px=1',\n",
       " 'https://www.naukri.com/job-listings-data-scientist-simplify360-bangalore-bengaluru-1-to-3-years-310521500913?src=jobsearchDesk&sid=1626018816565995&xp=15&px=1',\n",
       " 'https://www.naukri.com/job-listings-data-scientist-systech-international-bangalore-bengaluru-2-to-7-years-230621005269?src=jobsearchDesk&sid=1626018816565995&xp=16&px=1',\n",
       " 'https://www.naukri.com/job-listings-data-scientist-flipkart-internet-private-limited-bangalore-bengaluru-0-to-5-years-080721904425?src=jobsearchDesk&sid=1626018816565995&xp=17&px=1',\n",
       " 'https://www.naukri.com/job-listings-data-scientist-global-talent-pool-bangalore-bengaluru-0-to-2-years-310521500397?src=jobsearchDesk&sid=1626018816565995&xp=18&px=1',\n",
       " 'https://www.naukri.com/job-listings-data-scientist-publicis-groupe-bangalore-bengaluru-1-to-4-years-240521501032?src=jobsearchDesk&sid=1626018816565995&xp=19&px=1',\n",
       " 'https://www.naukri.com/job-listings-data-scientist-zycus-infotech-pvt-ltd-bangalore-bengaluru-1-to-6-years-050521901759?src=jobsearchDesk&sid=1626018816565995&xp=20&px=1']"
      ]
     },
     "execution_count": 45,
     "metadata": {},
     "output_type": "execute_result"
    }
   ],
   "source": [
    "job_opening_urls = []\n",
    "\n",
    "url = driver.find_elements_by_xpath('//a[@class = \"title fw500 ellipsis\"]')\n",
    "for i in url:\n",
    "    job_opening_urls.append(i.get_attribute('href'))\n",
    "job_opening_urls"
   ]
  },
  {
   "cell_type": "code",
   "execution_count": 51,
   "metadata": {},
   "outputs": [],
   "source": [
    "# Importing Libraries\n",
    "import selenium\n",
    "import pandas as pd\n",
    "import time\n",
    "from bs4 import BeautifulSoup\n",
    "\n",
    "# Importing selenium webdriver \n",
    "from selenium import webdriver\n",
    "\n",
    "# Importing required Exceptions which needs to handled\n",
    "from selenium.common.exceptions import StaleElementReferenceException, NoSuchElementException\n",
    "\n",
    "#Importing requests\n",
    "import requests\n",
    "\n",
    "# importing regex\n",
    "import re"
   ]
  },
  {
   "cell_type": "code",
   "execution_count": 53,
   "metadata": {},
   "outputs": [],
   "source": [
    "driver=webdriver.Chrome(\"chromedriver.exe\") \n",
    "time.sleep(3)\n",
    "\n",
    "url = \"https://www.glassdoor.co.in/\"\n",
    "driver.get(url)"
   ]
  },
  {
   "cell_type": "code",
   "execution_count": 54,
   "metadata": {},
   "outputs": [
    {
     "data": {
      "text/plain": [
       "<selenium.webdriver.remote.webelement.WebElement (session=\"6bda02a9e9279e92a0a3f0cdd2889640\", element=\"b9223d17-c825-4fa8-be01-1d06306bd034\")>"
      ]
     },
     "execution_count": 54,
     "metadata": {},
     "output_type": "execute_result"
    }
   ],
   "source": [
    "search_job = driver.find_element_by_id('jobTitle-jobTitleId')\n",
    "search_job"
   ]
  },
  {
   "cell_type": "code",
   "execution_count": 55,
   "metadata": {},
   "outputs": [],
   "source": [
    "# write on search bar\n",
    "search_job.send_keys(\"Data Scientist\")"
   ]
  },
  {
   "cell_type": "code",
   "execution_count": 56,
   "metadata": {},
   "outputs": [],
   "source": [
    "# finding element for job location bar\n",
    "search_loc = driver.find_element_by_id('location-locationId')\n",
    "search_loc.send_keys(\"Noida\")"
   ]
  },
  {
   "cell_type": "code",
   "execution_count": 57,
   "metadata": {},
   "outputs": [],
   "source": [
    "#do click using xpath function\n",
    "search_btn = driver.find_element_by_xpath(\"//button[@class='gd-ui-button mx-auto css-8i7bc2']\")\n",
    "search_btn.click()"
   ]
  },
  {
   "cell_type": "code",
   "execution_count": 58,
   "metadata": {},
   "outputs": [
    {
     "data": {
      "text/plain": [
       "[<selenium.webdriver.remote.webelement.WebElement (session=\"6bda02a9e9279e92a0a3f0cdd2889640\", element=\"c0088df5-8ce6-4455-93c6-12657a59b7ca\")>,\n",
       " <selenium.webdriver.remote.webelement.WebElement (session=\"6bda02a9e9279e92a0a3f0cdd2889640\", element=\"767b9985-4c96-430d-88a1-db8503fed37f\")>,\n",
       " <selenium.webdriver.remote.webelement.WebElement (session=\"6bda02a9e9279e92a0a3f0cdd2889640\", element=\"3224e259-3cb9-45e8-9b5b-2181c9a2701f\")>,\n",
       " <selenium.webdriver.remote.webelement.WebElement (session=\"6bda02a9e9279e92a0a3f0cdd2889640\", element=\"1b26139c-fda9-4853-b5b3-4baebb2b9ccd\")>,\n",
       " <selenium.webdriver.remote.webelement.WebElement (session=\"6bda02a9e9279e92a0a3f0cdd2889640\", element=\"bcfce111-2f31-403b-98c4-8c5a132b12a7\")>,\n",
       " <selenium.webdriver.remote.webelement.WebElement (session=\"6bda02a9e9279e92a0a3f0cdd2889640\", element=\"b9943b58-402a-444e-bf22-ee9dba7d5446\")>,\n",
       " <selenium.webdriver.remote.webelement.WebElement (session=\"6bda02a9e9279e92a0a3f0cdd2889640\", element=\"76476695-0be5-41fc-989e-48819b1eca42\")>,\n",
       " <selenium.webdriver.remote.webelement.WebElement (session=\"6bda02a9e9279e92a0a3f0cdd2889640\", element=\"ba04c8f0-ef33-435d-9e34-814d5ebd1f02\")>,\n",
       " <selenium.webdriver.remote.webelement.WebElement (session=\"6bda02a9e9279e92a0a3f0cdd2889640\", element=\"c20adb34-852f-4fc5-84b7-0f702d917635\")>,\n",
       " <selenium.webdriver.remote.webelement.WebElement (session=\"6bda02a9e9279e92a0a3f0cdd2889640\", element=\"5216c487-e136-4f76-bfa5-6035f4ec69eb\")>,\n",
       " <selenium.webdriver.remote.webelement.WebElement (session=\"6bda02a9e9279e92a0a3f0cdd2889640\", element=\"35f8bcb5-c088-452b-9bfd-87209104d79f\")>,\n",
       " <selenium.webdriver.remote.webelement.WebElement (session=\"6bda02a9e9279e92a0a3f0cdd2889640\", element=\"93a71d23-4965-46a3-8997-e3c682b624a5\")>,\n",
       " <selenium.webdriver.remote.webelement.WebElement (session=\"6bda02a9e9279e92a0a3f0cdd2889640\", element=\"697734cd-c4e0-4571-9e72-8302a9ddbeba\")>,\n",
       " <selenium.webdriver.remote.webelement.WebElement (session=\"6bda02a9e9279e92a0a3f0cdd2889640\", element=\"8ed9772f-bc10-4e36-becd-44e0e962fbcc\")>,\n",
       " <selenium.webdriver.remote.webelement.WebElement (session=\"6bda02a9e9279e92a0a3f0cdd2889640\", element=\"922f213e-49cb-4394-a06d-adefd8007315\")>,\n",
       " <selenium.webdriver.remote.webelement.WebElement (session=\"6bda02a9e9279e92a0a3f0cdd2889640\", element=\"4d421b97-fdbd-4740-9d97-e9293b1a26ad\")>,\n",
       " <selenium.webdriver.remote.webelement.WebElement (session=\"6bda02a9e9279e92a0a3f0cdd2889640\", element=\"d88d97b4-7931-4dd6-8e30-d492afb2e523\")>,\n",
       " <selenium.webdriver.remote.webelement.WebElement (session=\"6bda02a9e9279e92a0a3f0cdd2889640\", element=\"d4271900-165c-4a31-9fc8-0df8ee7f5fe1\")>,\n",
       " <selenium.webdriver.remote.webelement.WebElement (session=\"6bda02a9e9279e92a0a3f0cdd2889640\", element=\"8df9c80b-8c46-47a9-97b0-448afa069994\")>,\n",
       " <selenium.webdriver.remote.webelement.WebElement (session=\"6bda02a9e9279e92a0a3f0cdd2889640\", element=\"506d9aa5-c6fc-47a3-ae46-965628f18066\")>,\n",
       " <selenium.webdriver.remote.webelement.WebElement (session=\"6bda02a9e9279e92a0a3f0cdd2889640\", element=\"6e11d396-100d-4833-846f-6f2de5c0e38b\")>,\n",
       " <selenium.webdriver.remote.webelement.WebElement (session=\"6bda02a9e9279e92a0a3f0cdd2889640\", element=\"5c87fb41-cd8b-4be0-a22f-b81c92629197\")>,\n",
       " <selenium.webdriver.remote.webelement.WebElement (session=\"6bda02a9e9279e92a0a3f0cdd2889640\", element=\"78fdc18e-8653-404d-9403-00842cb7d1ec\")>,\n",
       " <selenium.webdriver.remote.webelement.WebElement (session=\"6bda02a9e9279e92a0a3f0cdd2889640\", element=\"147627c7-7292-4f76-bb1a-6e2e64fa6405\")>,\n",
       " <selenium.webdriver.remote.webelement.WebElement (session=\"6bda02a9e9279e92a0a3f0cdd2889640\", element=\"a3f0626e-c419-44a1-8cb9-2547778faf31\")>,\n",
       " <selenium.webdriver.remote.webelement.WebElement (session=\"6bda02a9e9279e92a0a3f0cdd2889640\", element=\"b044b5a8-2028-42e4-9665-272386c5da3a\")>,\n",
       " <selenium.webdriver.remote.webelement.WebElement (session=\"6bda02a9e9279e92a0a3f0cdd2889640\", element=\"73279508-b8a7-4477-ac94-cdd63604aff4\")>,\n",
       " <selenium.webdriver.remote.webelement.WebElement (session=\"6bda02a9e9279e92a0a3f0cdd2889640\", element=\"941fd7f4-c68a-433b-bc50-256a0cfb850f\")>,\n",
       " <selenium.webdriver.remote.webelement.WebElement (session=\"6bda02a9e9279e92a0a3f0cdd2889640\", element=\"ef8fc22f-181a-4f2e-bba4-e9e58f1c5acd\")>,\n",
       " <selenium.webdriver.remote.webelement.WebElement (session=\"6bda02a9e9279e92a0a3f0cdd2889640\", element=\"1c812b4b-a308-498a-ade5-d1cdab7f4f51\")>,\n",
       " <selenium.webdriver.remote.webelement.WebElement (session=\"6bda02a9e9279e92a0a3f0cdd2889640\", element=\"95894a6f-1b55-4140-9870-033ffeb2b737\")>,\n",
       " <selenium.webdriver.remote.webelement.WebElement (session=\"6bda02a9e9279e92a0a3f0cdd2889640\", element=\"038f927b-7f82-487f-aef4-c58f9999a4b9\")>]"
      ]
     },
     "execution_count": 58,
     "metadata": {},
     "output_type": "execute_result"
    }
   ],
   "source": [
    "# so lets extract all the tags having the job-titles\n",
    "titles_tags=driver.find_elements_by_xpath(\"//a[@class = 'jobLink css-1rd3saf eigr9kq2']\")\n",
    "titles_tags"
   ]
  },
  {
   "cell_type": "code",
   "execution_count": 59,
   "metadata": {},
   "outputs": [
    {
     "data": {
      "text/plain": [
       "['HR Data Analyst - New Delhi, IN',\n",
       " 'Data Engineer - Python with Azure ADF',\n",
       " 'Data Scientist',\n",
       " 'Data Scientist',\n",
       " 'Data Scientist',\n",
       " 'Data Scientist',\n",
       " 'Data Scientist',\n",
       " 'Data Scientist',\n",
       " 'Data Scientist',\n",
       " 'Data Scientist',\n",
       " 'Data Scientist',\n",
       " 'Data Scientist',\n",
       " 'Data Scientist',\n",
       " 'Data Scientist',\n",
       " 'Data Scientist',\n",
       " 'Data Scientist',\n",
       " 'Data Scientist',\n",
       " 'Data Scientist',\n",
       " 'Data Scientist',\n",
       " 'Data Scientist',\n",
       " 'Data Scientist',\n",
       " 'Data Scientist',\n",
       " 'Data Scientist',\n",
       " 'Data Scientist',\n",
       " 'Data Scientist',\n",
       " 'Assistant Manager - Data Scientist',\n",
       " 'Data Scientist',\n",
       " 'Data Scientist',\n",
       " 'Analyst - Data Scientist',\n",
       " 'Data Scientist',\n",
       " 'Data Analyst / Data Scientist',\n",
       " 'data scientist']"
      ]
     },
     "execution_count": 59,
     "metadata": {},
     "output_type": "execute_result"
    }
   ],
   "source": [
    "# Now the text of the job title is inside the tags extracted above.\n",
    "\n",
    "# so we will run a loop to iterate over the tags extracted above and extract the text inside them.\n",
    "job_titles=[]\n",
    "for i in titles_tags:\n",
    "    job_titles.append(i.text)\n",
    "job_titles"
   ]
  },
  {
   "cell_type": "code",
   "execution_count": 61,
   "metadata": {},
   "outputs": [
    {
     "data": {
      "text/plain": [
       "[<selenium.webdriver.remote.webelement.WebElement (session=\"6bda02a9e9279e92a0a3f0cdd2889640\", element=\"64cad749-0c9a-4821-afb0-fcc998366137\")>,\n",
       " <selenium.webdriver.remote.webelement.WebElement (session=\"6bda02a9e9279e92a0a3f0cdd2889640\", element=\"c7a4b7b1-cfd5-4390-80f1-b52a1ddc0e36\")>,\n",
       " <selenium.webdriver.remote.webelement.WebElement (session=\"6bda02a9e9279e92a0a3f0cdd2889640\", element=\"d38d992e-eae2-4045-9c75-aed4c52bdb3e\")>,\n",
       " <selenium.webdriver.remote.webelement.WebElement (session=\"6bda02a9e9279e92a0a3f0cdd2889640\", element=\"da02366f-f6b8-4ab7-80a8-0d766fe32681\")>,\n",
       " <selenium.webdriver.remote.webelement.WebElement (session=\"6bda02a9e9279e92a0a3f0cdd2889640\", element=\"a4a3f59d-9911-4fa0-b4cf-37f65939ba27\")>,\n",
       " <selenium.webdriver.remote.webelement.WebElement (session=\"6bda02a9e9279e92a0a3f0cdd2889640\", element=\"8007d8b9-2464-4652-bdf0-43926c3ba7ce\")>,\n",
       " <selenium.webdriver.remote.webelement.WebElement (session=\"6bda02a9e9279e92a0a3f0cdd2889640\", element=\"ab23e84c-843e-4c1b-a5ea-544fc8fc216a\")>,\n",
       " <selenium.webdriver.remote.webelement.WebElement (session=\"6bda02a9e9279e92a0a3f0cdd2889640\", element=\"6b3a935d-2f4e-47b6-b2c4-227f4c785e9c\")>,\n",
       " <selenium.webdriver.remote.webelement.WebElement (session=\"6bda02a9e9279e92a0a3f0cdd2889640\", element=\"9beaaf5f-7df2-4908-97fc-f93fb3e323a4\")>,\n",
       " <selenium.webdriver.remote.webelement.WebElement (session=\"6bda02a9e9279e92a0a3f0cdd2889640\", element=\"3ebbf054-c3a4-4143-a1bd-3c582d570889\")>,\n",
       " <selenium.webdriver.remote.webelement.WebElement (session=\"6bda02a9e9279e92a0a3f0cdd2889640\", element=\"925a0d91-a662-450a-bbef-c37e84ab80d5\")>,\n",
       " <selenium.webdriver.remote.webelement.WebElement (session=\"6bda02a9e9279e92a0a3f0cdd2889640\", element=\"3cb68dcf-c4cc-495f-95f8-f2d1fede9ae0\")>,\n",
       " <selenium.webdriver.remote.webelement.WebElement (session=\"6bda02a9e9279e92a0a3f0cdd2889640\", element=\"f4c78b6c-7190-4637-ba9d-cb94e2dac5e2\")>,\n",
       " <selenium.webdriver.remote.webelement.WebElement (session=\"6bda02a9e9279e92a0a3f0cdd2889640\", element=\"971df090-9cf2-4620-b2c2-6a2f2748dd96\")>,\n",
       " <selenium.webdriver.remote.webelement.WebElement (session=\"6bda02a9e9279e92a0a3f0cdd2889640\", element=\"2f2e7c89-77b6-4251-b452-707c42b83539\")>,\n",
       " <selenium.webdriver.remote.webelement.WebElement (session=\"6bda02a9e9279e92a0a3f0cdd2889640\", element=\"e885ab5d-9cef-429f-900b-dbcf697e58a9\")>,\n",
       " <selenium.webdriver.remote.webelement.WebElement (session=\"6bda02a9e9279e92a0a3f0cdd2889640\", element=\"a64427f2-b369-4716-b569-f12fc311638e\")>,\n",
       " <selenium.webdriver.remote.webelement.WebElement (session=\"6bda02a9e9279e92a0a3f0cdd2889640\", element=\"661ca1a7-84a3-4cfe-a27b-c6130c73d816\")>,\n",
       " <selenium.webdriver.remote.webelement.WebElement (session=\"6bda02a9e9279e92a0a3f0cdd2889640\", element=\"d86bfd70-598e-4294-a98a-43c2c77b6437\")>,\n",
       " <selenium.webdriver.remote.webelement.WebElement (session=\"6bda02a9e9279e92a0a3f0cdd2889640\", element=\"a5c13638-bf02-4287-bb6a-c0a298410390\")>,\n",
       " <selenium.webdriver.remote.webelement.WebElement (session=\"6bda02a9e9279e92a0a3f0cdd2889640\", element=\"28418925-12ca-464c-b186-cd940b3707d4\")>,\n",
       " <selenium.webdriver.remote.webelement.WebElement (session=\"6bda02a9e9279e92a0a3f0cdd2889640\", element=\"8b142106-6e0d-4907-ab31-72c86abe7587\")>,\n",
       " <selenium.webdriver.remote.webelement.WebElement (session=\"6bda02a9e9279e92a0a3f0cdd2889640\", element=\"3116276e-1778-41ca-996a-984825eeeeb5\")>,\n",
       " <selenium.webdriver.remote.webelement.WebElement (session=\"6bda02a9e9279e92a0a3f0cdd2889640\", element=\"b01203d4-f698-46c2-a732-620c754f4bdc\")>,\n",
       " <selenium.webdriver.remote.webelement.WebElement (session=\"6bda02a9e9279e92a0a3f0cdd2889640\", element=\"3237c9c1-846f-4608-80e1-88142e916b8f\")>,\n",
       " <selenium.webdriver.remote.webelement.WebElement (session=\"6bda02a9e9279e92a0a3f0cdd2889640\", element=\"80fb9d6c-3411-471e-a2ce-6b20a4b575c4\")>,\n",
       " <selenium.webdriver.remote.webelement.WebElement (session=\"6bda02a9e9279e92a0a3f0cdd2889640\", element=\"d8162338-36ae-4400-8497-ec4837504fde\")>,\n",
       " <selenium.webdriver.remote.webelement.WebElement (session=\"6bda02a9e9279e92a0a3f0cdd2889640\", element=\"f3e9a210-5195-456e-8ee8-0f5e3abf29a6\")>,\n",
       " <selenium.webdriver.remote.webelement.WebElement (session=\"6bda02a9e9279e92a0a3f0cdd2889640\", element=\"9264872c-c016-4706-8267-2cc9b44f92bf\")>,\n",
       " <selenium.webdriver.remote.webelement.WebElement (session=\"6bda02a9e9279e92a0a3f0cdd2889640\", element=\"d557e837-e2c2-4ae3-bc25-2e0aebea5955\")>,\n",
       " <selenium.webdriver.remote.webelement.WebElement (session=\"6bda02a9e9279e92a0a3f0cdd2889640\", element=\"b9c2aae0-9ac0-44f3-aad4-57a0c93f487e\")>,\n",
       " <selenium.webdriver.remote.webelement.WebElement (session=\"6bda02a9e9279e92a0a3f0cdd2889640\", element=\"63947172-51a7-4e7e-9411-3dd7abbc455c\")>]"
      ]
     },
     "execution_count": 61,
     "metadata": {},
     "output_type": "execute_result"
    }
   ],
   "source": [
    "# so lets extract all the tags having the company names\n",
    "companies_tags=driver.find_elements_by_xpath(\"//a[@class = ' css-l2wjgv e1n63ojh0 jobLink']\")\n",
    "companies_tags"
   ]
  },
  {
   "cell_type": "code",
   "execution_count": 62,
   "metadata": {},
   "outputs": [
    {
     "data": {
      "text/plain": [
       "['Bechtel',\n",
       " 'Bechtel',\n",
       " 'Ericsson',\n",
       " 'MobiKwik',\n",
       " 'Lantern Digital Services',\n",
       " 'Crowe',\n",
       " 'Novo',\n",
       " 'Siemens Technology and Services Private Limited',\n",
       " 'Biz2Credit Inc',\n",
       " 'Priority Vendor',\n",
       " 'Ally wiredsoft solutions (P) ltd',\n",
       " 'Gauge Data Solutions',\n",
       " 'Data Patterns',\n",
       " 'Techlive',\n",
       " 'WishFin',\n",
       " 'White Vectors',\n",
       " 'xtLytics',\n",
       " 'Innovacer',\n",
       " 'Algoscale',\n",
       " 'MasterCard',\n",
       " 'SearchUrCollege',\n",
       " 'Salasar New Age Technologies',\n",
       " 'WinZO',\n",
       " 'Applicate IT Solutions Pvt. Ltd.',\n",
       " 'Barclays',\n",
       " 'Genpact',\n",
       " 'ADCI - Haryana',\n",
       " 'Team Computers',\n",
       " 'United Airlines',\n",
       " 'Ank Aha',\n",
       " 'Ginger Webs Pvt. Ltd.',\n",
       " 'Randstad']"
      ]
     },
     "execution_count": 62,
     "metadata": {},
     "output_type": "execute_result"
    }
   ],
   "source": [
    "company_names=[]\n",
    "\n",
    "for i in companies_tags:\n",
    "    company_names.append(i.text)\n",
    "company_names"
   ]
  },
  {
   "cell_type": "code",
   "execution_count": 67,
   "metadata": {},
   "outputs": [
    {
     "data": {
      "text/plain": [
       "[<selenium.webdriver.remote.webelement.WebElement (session=\"6bda02a9e9279e92a0a3f0cdd2889640\", element=\"a285527d-8a95-4d05-9761-31148bc2d5dd\")>,\n",
       " <selenium.webdriver.remote.webelement.WebElement (session=\"6bda02a9e9279e92a0a3f0cdd2889640\", element=\"f5b96cda-fa83-4dc2-be7d-c96d5e1d310b\")>,\n",
       " <selenium.webdriver.remote.webelement.WebElement (session=\"6bda02a9e9279e92a0a3f0cdd2889640\", element=\"2a6041b6-6475-4dad-a023-94ea935d6280\")>,\n",
       " <selenium.webdriver.remote.webelement.WebElement (session=\"6bda02a9e9279e92a0a3f0cdd2889640\", element=\"c973defc-dfc5-4bfe-9428-3f7756f9e092\")>,\n",
       " <selenium.webdriver.remote.webelement.WebElement (session=\"6bda02a9e9279e92a0a3f0cdd2889640\", element=\"f3d60e09-4d2b-4d98-aa6d-1d0bd149ee7f\")>,\n",
       " <selenium.webdriver.remote.webelement.WebElement (session=\"6bda02a9e9279e92a0a3f0cdd2889640\", element=\"2fd62e0c-6841-4b26-888b-0b62a49e2338\")>,\n",
       " <selenium.webdriver.remote.webelement.WebElement (session=\"6bda02a9e9279e92a0a3f0cdd2889640\", element=\"25a1cc67-3b91-42e8-882a-f1bd8aa4912f\")>,\n",
       " <selenium.webdriver.remote.webelement.WebElement (session=\"6bda02a9e9279e92a0a3f0cdd2889640\", element=\"dad2246b-9bb8-4976-9cd5-30f46cf035dc\")>,\n",
       " <selenium.webdriver.remote.webelement.WebElement (session=\"6bda02a9e9279e92a0a3f0cdd2889640\", element=\"b5ee173c-2f01-4e3f-8fa7-ae6a60b952c8\")>,\n",
       " <selenium.webdriver.remote.webelement.WebElement (session=\"6bda02a9e9279e92a0a3f0cdd2889640\", element=\"bbd91e95-6e74-4af8-b585-32d48852dfa2\")>,\n",
       " <selenium.webdriver.remote.webelement.WebElement (session=\"6bda02a9e9279e92a0a3f0cdd2889640\", element=\"917433d1-d967-4bfe-9c15-014add3ff7c6\")>,\n",
       " <selenium.webdriver.remote.webelement.WebElement (session=\"6bda02a9e9279e92a0a3f0cdd2889640\", element=\"671eb59d-ce99-4372-8f1b-e0cb42e0815e\")>,\n",
       " <selenium.webdriver.remote.webelement.WebElement (session=\"6bda02a9e9279e92a0a3f0cdd2889640\", element=\"8ba65a6d-9747-46b0-ab2f-512361350d3a\")>,\n",
       " <selenium.webdriver.remote.webelement.WebElement (session=\"6bda02a9e9279e92a0a3f0cdd2889640\", element=\"3ba55e9f-e38e-45aa-abb9-a5d489ac5e89\")>,\n",
       " <selenium.webdriver.remote.webelement.WebElement (session=\"6bda02a9e9279e92a0a3f0cdd2889640\", element=\"92ea8dba-1aea-4184-9fe2-cae2a0a8049a\")>,\n",
       " <selenium.webdriver.remote.webelement.WebElement (session=\"6bda02a9e9279e92a0a3f0cdd2889640\", element=\"9fe1ae93-c544-4877-a1d4-8a8afdc4e9c3\")>,\n",
       " <selenium.webdriver.remote.webelement.WebElement (session=\"6bda02a9e9279e92a0a3f0cdd2889640\", element=\"6886c9e9-d77f-4f00-a2a8-b0f03c2e9ba2\")>,\n",
       " <selenium.webdriver.remote.webelement.WebElement (session=\"6bda02a9e9279e92a0a3f0cdd2889640\", element=\"8e986b8a-d62f-43f0-88c7-8ac3598fdef7\")>,\n",
       " <selenium.webdriver.remote.webelement.WebElement (session=\"6bda02a9e9279e92a0a3f0cdd2889640\", element=\"195cb130-65a1-4680-9548-5a6290d6cdd8\")>,\n",
       " <selenium.webdriver.remote.webelement.WebElement (session=\"6bda02a9e9279e92a0a3f0cdd2889640\", element=\"beeb0641-eec1-4ef8-a81f-7bee55950ecc\")>,\n",
       " <selenium.webdriver.remote.webelement.WebElement (session=\"6bda02a9e9279e92a0a3f0cdd2889640\", element=\"82b857cd-811c-46f5-bf64-75e55123b94c\")>,\n",
       " <selenium.webdriver.remote.webelement.WebElement (session=\"6bda02a9e9279e92a0a3f0cdd2889640\", element=\"1a2b9b0f-95f0-41b9-9dcc-e98b0b9199bc\")>,\n",
       " <selenium.webdriver.remote.webelement.WebElement (session=\"6bda02a9e9279e92a0a3f0cdd2889640\", element=\"8fbd3343-fc70-457f-86da-3d293d49bc38\")>,\n",
       " <selenium.webdriver.remote.webelement.WebElement (session=\"6bda02a9e9279e92a0a3f0cdd2889640\", element=\"6d3af801-d9a5-4107-b4c3-773c564b4710\")>,\n",
       " <selenium.webdriver.remote.webelement.WebElement (session=\"6bda02a9e9279e92a0a3f0cdd2889640\", element=\"e3ba2600-9675-4f9c-929c-8611cbe05c2b\")>]"
      ]
     },
     "execution_count": 67,
     "metadata": {},
     "output_type": "execute_result"
    }
   ],
   "source": [
    "# so lets extract all the tags having the rating required data \n",
    "rating_tags=driver.find_elements_by_xpath(\"//span[@class = 'css-19pjha7 e1cjmv6j1']\")\n",
    "rating_tags"
   ]
  },
  {
   "cell_type": "code",
   "execution_count": 68,
   "metadata": {},
   "outputs": [
    {
     "data": {
      "text/plain": [
       "['4.0',\n",
       " '4.0',\n",
       " '4.1',\n",
       " '4.0',\n",
       " '3.5',\n",
       " '3.8',\n",
       " '4.2',\n",
       " '4.1',\n",
       " '3.9',\n",
       " '3.7',\n",
       " '3.0',\n",
       " '3.1',\n",
       " '5.0',\n",
       " '3.8',\n",
       " '3.8',\n",
       " '3.8',\n",
       " '4.3',\n",
       " '4.7',\n",
       " '4.0',\n",
       " '3.8',\n",
       " '4.3',\n",
       " '4.1',\n",
       " '4.1',\n",
       " '4.0',\n",
       " '3.9']"
      ]
     },
     "execution_count": 68,
     "metadata": {},
     "output_type": "execute_result"
    }
   ],
   "source": [
    "rating_list=[]\n",
    "for i in rating_tags:\n",
    "    rating_list.append(i.text)\n",
    "rating_list"
   ]
  },
  {
   "cell_type": "code",
   "execution_count": 69,
   "metadata": {},
   "outputs": [
    {
     "data": {
      "text/plain": [
       "[<selenium.webdriver.remote.webelement.WebElement (session=\"6bda02a9e9279e92a0a3f0cdd2889640\", element=\"913f53c9-c6e0-463a-bca8-de6a033caad0\")>,\n",
       " <selenium.webdriver.remote.webelement.WebElement (session=\"6bda02a9e9279e92a0a3f0cdd2889640\", element=\"f4c8b5dd-2562-492a-accf-dba37f730d7b\")>,\n",
       " <selenium.webdriver.remote.webelement.WebElement (session=\"6bda02a9e9279e92a0a3f0cdd2889640\", element=\"b68c3324-9ce7-4ab4-a6ae-77bb628e1924\")>,\n",
       " <selenium.webdriver.remote.webelement.WebElement (session=\"6bda02a9e9279e92a0a3f0cdd2889640\", element=\"eb7d781c-7f55-4d47-bc6e-6033ffb1110d\")>,\n",
       " <selenium.webdriver.remote.webelement.WebElement (session=\"6bda02a9e9279e92a0a3f0cdd2889640\", element=\"1606380c-0814-49c0-a40b-019d678b793d\")>,\n",
       " <selenium.webdriver.remote.webelement.WebElement (session=\"6bda02a9e9279e92a0a3f0cdd2889640\", element=\"7ce9d32f-567d-48e4-8405-dd57b711855e\")>,\n",
       " <selenium.webdriver.remote.webelement.WebElement (session=\"6bda02a9e9279e92a0a3f0cdd2889640\", element=\"2468ff22-9ab3-4cd1-af56-4f1c5d54dc67\")>,\n",
       " <selenium.webdriver.remote.webelement.WebElement (session=\"6bda02a9e9279e92a0a3f0cdd2889640\", element=\"c5a477ec-7c67-4ac6-8b1c-86e9e8b30f99\")>,\n",
       " <selenium.webdriver.remote.webelement.WebElement (session=\"6bda02a9e9279e92a0a3f0cdd2889640\", element=\"7415ea22-5ca1-4d14-9978-b1c1a61bf4b7\")>,\n",
       " <selenium.webdriver.remote.webelement.WebElement (session=\"6bda02a9e9279e92a0a3f0cdd2889640\", element=\"7b4c6d65-7156-4e4f-ab94-f8fe42716737\")>,\n",
       " <selenium.webdriver.remote.webelement.WebElement (session=\"6bda02a9e9279e92a0a3f0cdd2889640\", element=\"de781510-a316-47c2-9cf5-870e1ef4c676\")>,\n",
       " <selenium.webdriver.remote.webelement.WebElement (session=\"6bda02a9e9279e92a0a3f0cdd2889640\", element=\"642d1f3c-4d5f-47ff-8500-b55fc4eba107\")>,\n",
       " <selenium.webdriver.remote.webelement.WebElement (session=\"6bda02a9e9279e92a0a3f0cdd2889640\", element=\"c1c51c82-e6c7-4166-8527-c5472ad6b580\")>,\n",
       " <selenium.webdriver.remote.webelement.WebElement (session=\"6bda02a9e9279e92a0a3f0cdd2889640\", element=\"4add1503-202b-4567-ba82-52484d15dba2\")>,\n",
       " <selenium.webdriver.remote.webelement.WebElement (session=\"6bda02a9e9279e92a0a3f0cdd2889640\", element=\"161ea4a0-ea2f-4f49-8232-943127717a76\")>,\n",
       " <selenium.webdriver.remote.webelement.WebElement (session=\"6bda02a9e9279e92a0a3f0cdd2889640\", element=\"cbbf835f-2523-4cf9-a597-ccbe6dacd8cc\")>,\n",
       " <selenium.webdriver.remote.webelement.WebElement (session=\"6bda02a9e9279e92a0a3f0cdd2889640\", element=\"8627ff8c-94f9-48f8-a361-69a62c3b3f9b\")>,\n",
       " <selenium.webdriver.remote.webelement.WebElement (session=\"6bda02a9e9279e92a0a3f0cdd2889640\", element=\"35e72704-fd95-412b-85fe-2be0cb5784dd\")>,\n",
       " <selenium.webdriver.remote.webelement.WebElement (session=\"6bda02a9e9279e92a0a3f0cdd2889640\", element=\"1e69447a-385f-4e35-ab9d-b6c3026c398f\")>,\n",
       " <selenium.webdriver.remote.webelement.WebElement (session=\"6bda02a9e9279e92a0a3f0cdd2889640\", element=\"17609331-e279-4e24-81e0-7f4d20d24e99\")>,\n",
       " <selenium.webdriver.remote.webelement.WebElement (session=\"6bda02a9e9279e92a0a3f0cdd2889640\", element=\"8af46502-1f93-4d7d-8402-f1dae0ab2e14\")>,\n",
       " <selenium.webdriver.remote.webelement.WebElement (session=\"6bda02a9e9279e92a0a3f0cdd2889640\", element=\"fd09d0da-3b41-4d0f-a9e2-a5cc64e5ccaf\")>,\n",
       " <selenium.webdriver.remote.webelement.WebElement (session=\"6bda02a9e9279e92a0a3f0cdd2889640\", element=\"484ec720-785c-4243-be16-ce7f0748c195\")>,\n",
       " <selenium.webdriver.remote.webelement.WebElement (session=\"6bda02a9e9279e92a0a3f0cdd2889640\", element=\"dc1a244f-e42d-44a8-aa7e-58ae95533e28\")>,\n",
       " <selenium.webdriver.remote.webelement.WebElement (session=\"6bda02a9e9279e92a0a3f0cdd2889640\", element=\"960d5bbd-b708-4994-9e3b-9eace1f6d693\")>,\n",
       " <selenium.webdriver.remote.webelement.WebElement (session=\"6bda02a9e9279e92a0a3f0cdd2889640\", element=\"7abdea0b-639b-4e26-a987-35c520cd62cf\")>,\n",
       " <selenium.webdriver.remote.webelement.WebElement (session=\"6bda02a9e9279e92a0a3f0cdd2889640\", element=\"4b01d48c-c323-4aaa-b4b0-d3aff374445e\")>,\n",
       " <selenium.webdriver.remote.webelement.WebElement (session=\"6bda02a9e9279e92a0a3f0cdd2889640\", element=\"b3d66e97-878a-4b2d-877d-4f18d9def9d7\")>,\n",
       " <selenium.webdriver.remote.webelement.WebElement (session=\"6bda02a9e9279e92a0a3f0cdd2889640\", element=\"0587f7c3-3dd8-4ed9-9ed1-ec827007b28a\")>,\n",
       " <selenium.webdriver.remote.webelement.WebElement (session=\"6bda02a9e9279e92a0a3f0cdd2889640\", element=\"b628edbd-2eb9-46b7-bde6-c0345fc76569\")>,\n",
       " <selenium.webdriver.remote.webelement.WebElement (session=\"6bda02a9e9279e92a0a3f0cdd2889640\", element=\"b5b38553-4bbf-4d2b-8ef6-d418ee3b60aa\")>,\n",
       " <selenium.webdriver.remote.webelement.WebElement (session=\"6bda02a9e9279e92a0a3f0cdd2889640\", element=\"f83efe20-d0fa-47d1-b0a8-78adb36c68e5\")>]"
      ]
     },
     "execution_count": 69,
     "metadata": {},
     "output_type": "execute_result"
    }
   ],
   "source": [
    "locations_tags=driver.find_elements_by_xpath(\"//span[@class = 'pr-xxsm css-1ndif2q e1rrn5ka0']\")\n",
    "locations_tags"
   ]
  },
  {
   "cell_type": "code",
   "execution_count": 70,
   "metadata": {},
   "outputs": [
    {
     "data": {
      "text/plain": [
       "['New Delhi',\n",
       " 'New Delhi',\n",
       " 'Noida',\n",
       " 'Gurgaon',\n",
       " 'Noida',\n",
       " 'Noida',\n",
       " 'Gurgaon',\n",
       " 'Gurgaon',\n",
       " 'Noida',\n",
       " 'Noida',\n",
       " 'Noida',\n",
       " 'Noida',\n",
       " 'Noida',\n",
       " 'Noida',\n",
       " 'Noida',\n",
       " 'New Delhi',\n",
       " 'Noida',\n",
       " 'Noida',\n",
       " 'Noida',\n",
       " 'Gurgaon',\n",
       " 'Noida',\n",
       " 'Noida',\n",
       " 'New Delhi',\n",
       " 'Gurgaon',\n",
       " 'New Delhi',\n",
       " 'Gurgaon',\n",
       " 'Gurgaon',\n",
       " 'New Delhi',\n",
       " 'Gurgaon',\n",
       " 'New Delhi',\n",
       " 'Noida',\n",
       " 'Noida']"
      ]
     },
     "execution_count": 70,
     "metadata": {},
     "output_type": "execute_result"
    }
   ],
   "source": [
    "locations_list=[]\n",
    "for i in locations_tags:\n",
    "    locations_list.append(i.text)\n",
    "locations_list"
   ]
  },
  {
   "cell_type": "code",
   "execution_count": 73,
   "metadata": {},
   "outputs": [
    {
     "name": "stdout",
     "output_type": "stream",
     "text": [
      "32 32 32\n"
     ]
    }
   ],
   "source": [
    "print(len(job_titles),len(company_names),len(locations_list))"
   ]
  },
  {
   "cell_type": "code",
   "execution_count": 74,
   "metadata": {},
   "outputs": [],
   "source": [
    "#import pandas as pd \n",
    "jobs=pd.DataFrame({})\n",
    "jobs['title']=job_titles\n",
    "jobs['company']=company_names\n",
    "jobs['location']=locations_list"
   ]
  },
  {
   "cell_type": "code",
   "execution_count": 75,
   "metadata": {},
   "outputs": [
    {
     "data": {
      "text/html": [
       "<div>\n",
       "<style scoped>\n",
       "    .dataframe tbody tr th:only-of-type {\n",
       "        vertical-align: middle;\n",
       "    }\n",
       "\n",
       "    .dataframe tbody tr th {\n",
       "        vertical-align: top;\n",
       "    }\n",
       "\n",
       "    .dataframe thead th {\n",
       "        text-align: right;\n",
       "    }\n",
       "</style>\n",
       "<table border=\"1\" class=\"dataframe\">\n",
       "  <thead>\n",
       "    <tr style=\"text-align: right;\">\n",
       "      <th></th>\n",
       "      <th>title</th>\n",
       "      <th>company</th>\n",
       "      <th>location</th>\n",
       "    </tr>\n",
       "  </thead>\n",
       "  <tbody>\n",
       "    <tr>\n",
       "      <th>0</th>\n",
       "      <td>HR Data Analyst - New Delhi, IN</td>\n",
       "      <td>Bechtel</td>\n",
       "      <td>New Delhi</td>\n",
       "    </tr>\n",
       "    <tr>\n",
       "      <th>1</th>\n",
       "      <td>Data Engineer - Python with Azure ADF</td>\n",
       "      <td>Bechtel</td>\n",
       "      <td>New Delhi</td>\n",
       "    </tr>\n",
       "    <tr>\n",
       "      <th>2</th>\n",
       "      <td>Data Scientist</td>\n",
       "      <td>Ericsson</td>\n",
       "      <td>Noida</td>\n",
       "    </tr>\n",
       "    <tr>\n",
       "      <th>3</th>\n",
       "      <td>Data Scientist</td>\n",
       "      <td>MobiKwik</td>\n",
       "      <td>Gurgaon</td>\n",
       "    </tr>\n",
       "    <tr>\n",
       "      <th>4</th>\n",
       "      <td>Data Scientist</td>\n",
       "      <td>Lantern Digital Services</td>\n",
       "      <td>Noida</td>\n",
       "    </tr>\n",
       "    <tr>\n",
       "      <th>5</th>\n",
       "      <td>Data Scientist</td>\n",
       "      <td>Crowe</td>\n",
       "      <td>Noida</td>\n",
       "    </tr>\n",
       "    <tr>\n",
       "      <th>6</th>\n",
       "      <td>Data Scientist</td>\n",
       "      <td>Novo</td>\n",
       "      <td>Gurgaon</td>\n",
       "    </tr>\n",
       "    <tr>\n",
       "      <th>7</th>\n",
       "      <td>Data Scientist</td>\n",
       "      <td>Siemens Technology and Services Private Limited</td>\n",
       "      <td>Gurgaon</td>\n",
       "    </tr>\n",
       "    <tr>\n",
       "      <th>8</th>\n",
       "      <td>Data Scientist</td>\n",
       "      <td>Biz2Credit Inc</td>\n",
       "      <td>Noida</td>\n",
       "    </tr>\n",
       "    <tr>\n",
       "      <th>9</th>\n",
       "      <td>Data Scientist</td>\n",
       "      <td>Priority Vendor</td>\n",
       "      <td>Noida</td>\n",
       "    </tr>\n",
       "    <tr>\n",
       "      <th>10</th>\n",
       "      <td>Data Scientist</td>\n",
       "      <td>Ally wiredsoft solutions (P) ltd</td>\n",
       "      <td>Noida</td>\n",
       "    </tr>\n",
       "    <tr>\n",
       "      <th>11</th>\n",
       "      <td>Data Scientist</td>\n",
       "      <td>Gauge Data Solutions</td>\n",
       "      <td>Noida</td>\n",
       "    </tr>\n",
       "    <tr>\n",
       "      <th>12</th>\n",
       "      <td>Data Scientist</td>\n",
       "      <td>Data Patterns</td>\n",
       "      <td>Noida</td>\n",
       "    </tr>\n",
       "    <tr>\n",
       "      <th>13</th>\n",
       "      <td>Data Scientist</td>\n",
       "      <td>Techlive</td>\n",
       "      <td>Noida</td>\n",
       "    </tr>\n",
       "    <tr>\n",
       "      <th>14</th>\n",
       "      <td>Data Scientist</td>\n",
       "      <td>WishFin</td>\n",
       "      <td>Noida</td>\n",
       "    </tr>\n",
       "    <tr>\n",
       "      <th>15</th>\n",
       "      <td>Data Scientist</td>\n",
       "      <td>White Vectors</td>\n",
       "      <td>New Delhi</td>\n",
       "    </tr>\n",
       "    <tr>\n",
       "      <th>16</th>\n",
       "      <td>Data Scientist</td>\n",
       "      <td>xtLytics</td>\n",
       "      <td>Noida</td>\n",
       "    </tr>\n",
       "    <tr>\n",
       "      <th>17</th>\n",
       "      <td>Data Scientist</td>\n",
       "      <td>Innovacer</td>\n",
       "      <td>Noida</td>\n",
       "    </tr>\n",
       "    <tr>\n",
       "      <th>18</th>\n",
       "      <td>Data Scientist</td>\n",
       "      <td>Algoscale</td>\n",
       "      <td>Noida</td>\n",
       "    </tr>\n",
       "    <tr>\n",
       "      <th>19</th>\n",
       "      <td>Data Scientist</td>\n",
       "      <td>MasterCard</td>\n",
       "      <td>Gurgaon</td>\n",
       "    </tr>\n",
       "    <tr>\n",
       "      <th>20</th>\n",
       "      <td>Data Scientist</td>\n",
       "      <td>SearchUrCollege</td>\n",
       "      <td>Noida</td>\n",
       "    </tr>\n",
       "    <tr>\n",
       "      <th>21</th>\n",
       "      <td>Data Scientist</td>\n",
       "      <td>Salasar New Age Technologies</td>\n",
       "      <td>Noida</td>\n",
       "    </tr>\n",
       "    <tr>\n",
       "      <th>22</th>\n",
       "      <td>Data Scientist</td>\n",
       "      <td>WinZO</td>\n",
       "      <td>New Delhi</td>\n",
       "    </tr>\n",
       "    <tr>\n",
       "      <th>23</th>\n",
       "      <td>Data Scientist</td>\n",
       "      <td>Applicate IT Solutions Pvt. Ltd.</td>\n",
       "      <td>Gurgaon</td>\n",
       "    </tr>\n",
       "    <tr>\n",
       "      <th>24</th>\n",
       "      <td>Data Scientist</td>\n",
       "      <td>Barclays</td>\n",
       "      <td>New Delhi</td>\n",
       "    </tr>\n",
       "    <tr>\n",
       "      <th>25</th>\n",
       "      <td>Assistant Manager - Data Scientist</td>\n",
       "      <td>Genpact</td>\n",
       "      <td>Gurgaon</td>\n",
       "    </tr>\n",
       "    <tr>\n",
       "      <th>26</th>\n",
       "      <td>Data Scientist</td>\n",
       "      <td>ADCI - Haryana</td>\n",
       "      <td>Gurgaon</td>\n",
       "    </tr>\n",
       "    <tr>\n",
       "      <th>27</th>\n",
       "      <td>Data Scientist</td>\n",
       "      <td>Team Computers</td>\n",
       "      <td>New Delhi</td>\n",
       "    </tr>\n",
       "    <tr>\n",
       "      <th>28</th>\n",
       "      <td>Analyst - Data Scientist</td>\n",
       "      <td>United Airlines</td>\n",
       "      <td>Gurgaon</td>\n",
       "    </tr>\n",
       "    <tr>\n",
       "      <th>29</th>\n",
       "      <td>Data Scientist</td>\n",
       "      <td>Ank Aha</td>\n",
       "      <td>New Delhi</td>\n",
       "    </tr>\n",
       "    <tr>\n",
       "      <th>30</th>\n",
       "      <td>Data Analyst / Data Scientist</td>\n",
       "      <td>Ginger Webs Pvt. Ltd.</td>\n",
       "      <td>Noida</td>\n",
       "    </tr>\n",
       "    <tr>\n",
       "      <th>31</th>\n",
       "      <td>data scientist</td>\n",
       "      <td>Randstad</td>\n",
       "      <td>Noida</td>\n",
       "    </tr>\n",
       "  </tbody>\n",
       "</table>\n",
       "</div>"
      ],
      "text/plain": [
       "                                    title  \\\n",
       "0         HR Data Analyst - New Delhi, IN   \n",
       "1   Data Engineer - Python with Azure ADF   \n",
       "2                          Data Scientist   \n",
       "3                          Data Scientist   \n",
       "4                          Data Scientist   \n",
       "5                          Data Scientist   \n",
       "6                          Data Scientist   \n",
       "7                          Data Scientist   \n",
       "8                          Data Scientist   \n",
       "9                          Data Scientist   \n",
       "10                         Data Scientist   \n",
       "11                         Data Scientist   \n",
       "12                         Data Scientist   \n",
       "13                         Data Scientist   \n",
       "14                         Data Scientist   \n",
       "15                         Data Scientist   \n",
       "16                         Data Scientist   \n",
       "17                         Data Scientist   \n",
       "18                         Data Scientist   \n",
       "19                         Data Scientist   \n",
       "20                         Data Scientist   \n",
       "21                         Data Scientist   \n",
       "22                         Data Scientist   \n",
       "23                         Data Scientist   \n",
       "24                         Data Scientist   \n",
       "25     Assistant Manager - Data Scientist   \n",
       "26                         Data Scientist   \n",
       "27                         Data Scientist   \n",
       "28               Analyst - Data Scientist   \n",
       "29                         Data Scientist   \n",
       "30          Data Analyst / Data Scientist   \n",
       "31                         data scientist   \n",
       "\n",
       "                                            company   location  \n",
       "0                                           Bechtel  New Delhi  \n",
       "1                                           Bechtel  New Delhi  \n",
       "2                                          Ericsson      Noida  \n",
       "3                                          MobiKwik    Gurgaon  \n",
       "4                          Lantern Digital Services      Noida  \n",
       "5                                             Crowe      Noida  \n",
       "6                                              Novo    Gurgaon  \n",
       "7   Siemens Technology and Services Private Limited    Gurgaon  \n",
       "8                                    Biz2Credit Inc      Noida  \n",
       "9                                   Priority Vendor      Noida  \n",
       "10                 Ally wiredsoft solutions (P) ltd      Noida  \n",
       "11                             Gauge Data Solutions      Noida  \n",
       "12                                    Data Patterns      Noida  \n",
       "13                                         Techlive      Noida  \n",
       "14                                          WishFin      Noida  \n",
       "15                                    White Vectors  New Delhi  \n",
       "16                                         xtLytics      Noida  \n",
       "17                                        Innovacer      Noida  \n",
       "18                                        Algoscale      Noida  \n",
       "19                                       MasterCard    Gurgaon  \n",
       "20                                  SearchUrCollege      Noida  \n",
       "21                     Salasar New Age Technologies      Noida  \n",
       "22                                            WinZO  New Delhi  \n",
       "23                 Applicate IT Solutions Pvt. Ltd.    Gurgaon  \n",
       "24                                         Barclays  New Delhi  \n",
       "25                                          Genpact    Gurgaon  \n",
       "26                                   ADCI - Haryana    Gurgaon  \n",
       "27                                   Team Computers  New Delhi  \n",
       "28                                  United Airlines    Gurgaon  \n",
       "29                                          Ank Aha  New Delhi  \n",
       "30                            Ginger Webs Pvt. Ltd.      Noida  \n",
       "31                                         Randstad      Noida  "
      ]
     },
     "execution_count": 75,
     "metadata": {},
     "output_type": "execute_result"
    }
   ],
   "source": [
    "jobs"
   ]
  },
  {
   "cell_type": "code",
   "execution_count": 76,
   "metadata": {},
   "outputs": [],
   "source": [
    "# Importing Libraries\n",
    "import selenium\n",
    "import pandas as pd\n",
    "import time\n",
    "from bs4 import BeautifulSoup\n",
    "\n",
    "# Importing selenium webdriver \n",
    "from selenium import webdriver\n",
    "\n",
    "# Importing required Exceptions which needs to handled\n",
    "from selenium.common.exceptions import StaleElementReferenceException, NoSuchElementException\n",
    "\n",
    "#Importing requests\n",
    "import requests\n",
    "\n",
    "# importing regex\n",
    "import re"
   ]
  },
  {
   "cell_type": "code",
   "execution_count": 77,
   "metadata": {},
   "outputs": [],
   "source": [
    "driver=webdriver.Chrome(\"chromedriver.exe\") \n",
    "time.sleep(3)\n",
    "\n",
    "url = \"https://www.flipkart.com/\"\n",
    "driver.get(url)"
   ]
  },
  {
   "cell_type": "code",
   "execution_count": null,
   "metadata": {},
   "outputs": [],
   "source": []
  },
  {
   "cell_type": "code",
   "execution_count": null,
   "metadata": {},
   "outputs": [],
   "source": []
  }
 ],
 "metadata": {
  "kernelspec": {
   "display_name": "Python 3",
   "language": "python",
   "name": "python3"
  },
  "language_info": {
   "codemirror_mode": {
    "name": "ipython",
    "version": 3
   },
   "file_extension": ".py",
   "mimetype": "text/x-python",
   "name": "python",
   "nbconvert_exporter": "python",
   "pygments_lexer": "ipython3",
   "version": "3.8.5"
  }
 },
 "nbformat": 4,
 "nbformat_minor": 4
}
